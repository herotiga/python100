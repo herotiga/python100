{
 "cells": [
  {
   "cell_type": "markdown",
   "metadata": {},
   "source": [
    "# 变量类型\n",
    "## 整型\n",
    "    Python中可以处理任意大小的整数（Python 2.x中有int和long两种类型的整数，但这种区分对Python来说意义不大，因此在Python 3.x中整数只有int这一种了），而且支持二进制（如0b100，换算成十进制是4）、八进制（如0o100，换算成十进制是64）、十进制（100）和十六进制（0x100，换算成十进制是256）的表示法。\n",
    "## 浮点数\n",
    "    浮点数也就是小数，之所以称为浮点数，是因为按照科学记数法表示时，一个浮点数的小数点位置是可变的，浮点数除了数学写法（如123.456）之外还支持科学计数法（如1.23456e2）。\n",
    "## 字符串\n",
    "    字符串是以单引号或双引号括起来的任意文本，比如'hello'和\"hello\",字符串还有原始字符串表示法、字节字符串表示法、Unicode字符串表示法，而且可以书写成多行的形式（用三个单引号或三个双引号开头，三个单引号或三个双引号结尾）。\n",
    "## 布尔型\n",
    "    布尔值只有True、False两种值，要么是True，要么是False，在Python中，可以直接用True、False表示布尔值（请注意大小写），也可以通过布尔运算计算出来（例如3 < 5会产生布尔值True，而2 == 1会产生布尔值False）。\n",
    "## 复数\n",
    "    形如3+5j，跟数学上的复数表示一样，唯一不同的是虚部的i换成了j。\n",
    "    \n",
    "# 变量命名\n",
    "    对于每个变量我们需要给它取一个名字，就如同我们每个人都有属于自己的响亮的名字一样。在Python中，变量命名需要遵循以下这些必须遵守硬性规则和强烈建议遵守的非硬性规则。\n",
    "\n",
    "    硬性规则：\n",
    "    变量名由字母（广义的Unicode字符，不包括特殊字符）、数字和下划线构成，数字不能开头。\n",
    "    大小写敏感（大写的a和小写的A是两个不同的变量）。\n",
    "    不要跟关键字（有特殊含义的单词，后面会讲到）和系统保留字（如函数、模块等的名字）冲突。\n",
    "    PEP 8要求：\n",
    "    用小写字母拼写，多个单词用下划线连接。\n",
    "    受保护的实例属性用单个下划线开头（后面会讲到）。\n",
    "    私有的实例属性用两个下划线开头（后面会讲到）。\n",
    "    当然，作为一个专业的程序员，给变量（事实上应该是所有的标识符）命名时做到见名知意也是非常重要的。"
   ]
  },
  {
   "cell_type": "markdown",
   "metadata": {},
   "source": [
    "# 变量的使用"
   ]
  },
  {
   "cell_type": "code",
   "execution_count": 1,
   "metadata": {},
   "outputs": [
    {
     "name": "stdout",
     "output_type": "stream",
     "text": [
      "444\n",
      "198\n",
      "39483\n",
      "2.6097560975609757\n",
      "2\n",
      "75\n",
      "199580904170858944588683464608694075062943107082809027605498347841561605181074274426665986623764972439807786764739130193391688887305693295698132008415537889753720415793877902074665765736230030622222862498385818118244547668141388643750880896837470534556730014314212951333550122949806119583030226121714710874561\n"
     ]
    }
   ],
   "source": [
    "# 变量的使用\n",
    "\"\"\"\n",
    "使用变量保存数据并进行算术运算\n",
    "\"\"\"\n",
    "\n",
    "a = 321\n",
    "b = 123\n",
    "print(a + b)\n",
    "print(a - b)\n",
    "print(a * b)\n",
    "print(a / b)\n",
    "print(a // b)\n",
    "print(a % b)\n",
    "print(a ** b)"
   ]
  },
  {
   "cell_type": "code",
   "execution_count": 4,
   "metadata": {},
   "outputs": [
    {
     "name": "stdout",
     "output_type": "stream",
     "text": [
      "a = 1\n",
      "b = 2\n",
      "1 + 2 = 3\n",
      "1 - 2 = -1\n",
      "1 * 2 = 2\n",
      "1 / 2 = 0.500000\n",
      "1 // 2 = 0\n",
      "1 % 2 = 1\n",
      "1 ** 2 = 1\n"
     ]
    }
   ],
   "source": [
    "\"\"\"\n",
    "使用input()函数获取键盘输入\n",
    "使用int()进行类型转换\n",
    "用占位符格式化输出的字符串\n",
    "\"\"\"\n",
    "\n",
    "a = int(input('a = '))\n",
    "b = int(input('b = '))\n",
    "print('%d + %d = %d' % (a, b, a + b))\n",
    "print('%d - %d = %d' % (a, b, a - b))\n",
    "print('%d * %d = %d' % (a, b, a * b))\n",
    "print('%d / %d = %f' % (a, b, a / b))\n",
    "print('%d // %d = %d' % (a, b, a // b))\n",
    "print('%d %% %d = %d' % (a, b, a % b))\n",
    "print('%d ** %d = %d' % (a, b, a ** b))"
   ]
  },
  {
   "cell_type": "code",
   "execution_count": 5,
   "metadata": {},
   "outputs": [
    {
     "name": "stdout",
     "output_type": "stream",
     "text": [
      "<class 'int'>\n",
      "<class 'float'>\n",
      "<class 'complex'>\n",
      "<class 'str'>\n",
      "<class 'bool'>\n"
     ]
    }
   ],
   "source": [
    "\"\"\"\n",
    "使用type()检查变量的类型\n",
    "\"\"\"\n",
    "\n",
    "a = 100\n",
    "b = 12.345\n",
    "c = 1 + 5j\n",
    "d = 'hello, world'\n",
    "e = True\n",
    "print(type(a))\n",
    "print(type(b))\n",
    "print(type(c))\n",
    "print(type(d))\n",
    "print(type(e))"
   ]
  },
  {
   "cell_type": "markdown",
   "metadata": {},
   "source": [
    "## 在对变量类型进行转换时可以使用Python的内置函数（准确的说下面列出的并不是真正意义上的函数，而是后面我们要讲到的创建对象的构造方法）。\n",
    "\n",
    "    int()：将一个数值或字符串转换成整数，可以指定进制。\n",
    "    float()：将一个字符串转换成浮点数。\n",
    "    str()：将指定的对象转换成字符串形式，可以指定编码。\n",
    "    chr()：将整数转换成该编码对应的字符串（一个字符）。\n",
    "    ord()：将字符串（一个字符）转换成对应的编码（整数）。"
   ]
  },
  {
   "cell_type": "raw",
   "metadata": {},
   "source": [
    "运算符\n",
    "Python支持多种运算符，下表大致按照优先级从高到低的顺序列出了所有的运算符，我们会陆续使用到它们。\n",
    "\n",
    "运算符\t描述\n",
    "[] [:]\t下标，切片\n",
    "**\t指数\n",
    "~ + -\t按位取反, 正负号\n",
    "* / % //\t乘，除，模，整除\n",
    "+ -\t加，减\n",
    ">> <<\t右移，左移\n",
    "&\t按位与\n",
    "^ |\t按位异或，按位或\n",
    "<= < > >=\t小于等于，小于，大于，大于等于\n",
    "== !=\t等于，不等于\n",
    "is is not\t身份运算符\n",
    "in not in\t成员运算符\n",
    "not or and\t逻辑运算符\n",
    "= += -= *= /= %= //= **= &= `\t= ^= >>= <<=`\n",
    "说明： 在实际开发中，如果搞不清楚运算符的优先级，可以使用括号来确保运算的执行顺序。"
   ]
  },
  {
   "cell_type": "code",
   "execution_count": 6,
   "metadata": {},
   "outputs": [
    {
     "name": "stdout",
     "output_type": "stream",
     "text": [
      "a =  9.6\n",
      "flag1 =  True\n",
      "flag2 =  False\n",
      "flag3 =  False\n",
      "flag4 =  True\n",
      "flag5 =  False\n",
      "True\n",
      "False\n"
     ]
    }
   ],
   "source": [
    "# 下面的例子演示了运算符的使用。\n",
    "\"\"\"\n",
    "运算符的使用\n",
    "\"\"\"\n",
    "\n",
    "a = 5\n",
    "b = 10\n",
    "c = 3\n",
    "d = 4\n",
    "e = 5\n",
    "a += b\n",
    "a -= c\n",
    "a *= d\n",
    "a /= e\n",
    "print(\"a = \", a)\n",
    "\n",
    "flag1 = 3 > 2\n",
    "flag2 = 2 < 1\n",
    "flag3 = flag1 and flag2\n",
    "flag4 = flag1 or flag2\n",
    "flag5 = not flag1\n",
    "print(\"flag1 = \", flag1)\n",
    "print(\"flag2 = \", flag2)\n",
    "print(\"flag3 = \", flag3)\n",
    "print(\"flag4 = \", flag4)\n",
    "print(\"flag5 = \", flag5)\n",
    "print(flag1 is True)\n",
    "print(flag2 is not False)"
   ]
  },
  {
   "cell_type": "markdown",
   "metadata": {},
   "source": [
    "# 练习1：华氏温度转摄氏温度。"
   ]
  },
  {
   "cell_type": "code",
   "execution_count": 7,
   "metadata": {},
   "outputs": [
    {
     "name": "stdout",
     "output_type": "stream",
     "text": [
      "请输入华氏温度: 273\n",
      "273.0华氏度 = 133.9摄氏度\n"
     ]
    }
   ],
   "source": [
    "\"\"\"\n",
    "将华氏温度转换为摄氏温度\n",
    "F = 1.8C + 32\n",
    "\"\"\"\n",
    "f = float(input('请输入华氏温度: '))\n",
    "c = (f - 32) / 1.8\n",
    "print('%.1f华氏度 = %.1f摄氏度' % (f, c))"
   ]
  },
  {
   "cell_type": "code",
   "execution_count": 18,
   "metadata": {},
   "outputs": [
    {
     "name": "stdout",
     "output_type": "stream",
     "text": [
      "请输入摄氏度:133.9\n",
      "134摄氏度 = 273华氏温度\n"
     ]
    }
   ],
   "source": [
    "\"\"\"\n",
    "将摄氏温度转化为华氏温度\n",
    "F = 1.8C + 32\n",
    "\"\"\"\n",
    "c = float(input('请输入摄氏度:'))\n",
    "f = 1.8*c + 32\n",
    "print('%.lf摄氏度 = %.ld华氏温度' % (c,f))"
   ]
  },
  {
   "cell_type": "markdown",
   "metadata": {},
   "source": [
    "# 练习2：输入圆的半径计算计算周长和面积。"
   ]
  },
  {
   "cell_type": "code",
   "execution_count": 21,
   "metadata": {},
   "outputs": [
    {
     "name": "stdout",
     "output_type": "stream",
     "text": [
      "请输入半径：1\n",
      "6.283185307179586 3.141592653589793\n"
     ]
    }
   ],
   "source": [
    "# c = 2*pi*r\n",
    "# s = pi*r*r\n",
    "import math\n",
    "r = float(input('请输入半径：'))\n",
    "c = 2 * math.pi * r\n",
    "s = math.pi * r * r\n",
    "print(c,s)"
   ]
  },
  {
   "cell_type": "markdown",
   "metadata": {},
   "source": [
    "# 练习3：输入年份判断是不是闰年。# "
   ]
  },
  {
   "cell_type": "code",
   "execution_count": 25,
   "metadata": {},
   "outputs": [
    {
     "name": "stdout",
     "output_type": "stream",
     "text": [
      "请输入年份：1900\n",
      "False\n"
     ]
    }
   ],
   "source": [
    "year = int(input('请输入年份：'))\n",
    "# 如果代码太长写成一行不便于阅读 可以使用\\或()折行\n",
    "is_leap = (year % 4 == 0 and year % 100 != 0 or\n",
    "           year % 400 == 0)\n",
    "print(is_leap)"
   ]
  },
  {
   "cell_type": "code",
   "execution_count": 29,
   "metadata": {},
   "outputs": [
    {
     "name": "stdout",
     "output_type": "stream",
     "text": [
      "please input the year:2018\n",
      "False\n"
     ]
    }
   ],
   "source": [
    "year = int(input('please input the year:'))\n",
    "print((year%4 == 0 and year%100 != 0 or year%400 ==0))"
   ]
  }
 ],
 "metadata": {
  "kernelspec": {
   "display_name": "Python 3",
   "language": "python",
   "name": "python3"
  },
  "language_info": {
   "codemirror_mode": {
    "name": "ipython",
    "version": 3
   },
   "file_extension": ".py",
   "mimetype": "text/x-python",
   "name": "python",
   "nbconvert_exporter": "python",
   "pygments_lexer": "ipython3",
   "version": "3.7.3"
  }
 },
 "nbformat": 4,
 "nbformat_minor": 2
}
