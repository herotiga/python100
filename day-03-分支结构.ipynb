{
 "cells": [
  {
   "cell_type": "markdown",
   "metadata": {},
   "source": [
    "# if语句"
   ]
  },
  {
   "cell_type": "code",
   "execution_count": 10,
   "metadata": {},
   "outputs": [
    {
     "name": "stdout",
     "output_type": "stream",
     "text": [
      "请输入用户名:admin\n",
      "请输入密码:password\n",
      "welcome:admin!\n"
     ]
    }
   ],
   "source": [
    "usr = input('请输入用户名:')\n",
    "pwd = input('请输入密码:')\n",
    "if usr == 'admin' and pwd == 'password' :\n",
    "    print('welcome:admin!')\n",
    "else:\n",
    "        print('login failed!')"
   ]
  },
  {
   "cell_type": "code",
   "execution_count": 27,
   "metadata": {},
   "outputs": [
    {
     "name": "stdout",
     "output_type": "stream",
     "text": [
      "please enter your gender:dog\n",
      "error input!\n"
     ]
    }
   ],
   "source": [
    "gender = input('please enter your gender:')\n",
    "if gender == 'male':\n",
    "    print('you are man')\n",
    "elif gender == 'female':\n",
    "    print('you are woman')\n",
    "elif gender != 'male' or gender != 'female' :\n",
    "    print('error input!')"
   ]
  },
  {
   "cell_type": "code",
   "execution_count": null,
   "metadata": {},
   "outputs": [],
   "source": []
  }
 ],
 "metadata": {
  "kernelspec": {
   "display_name": "Python 3",
   "language": "python",
   "name": "python3"
  },
  "language_info": {
   "codemirror_mode": {
    "name": "ipython",
    "version": 3
   },
   "file_extension": ".py",
   "mimetype": "text/x-python",
   "name": "python",
   "nbconvert_exporter": "python",
   "pygments_lexer": "ipython3",
   "version": "3.7.4"
  }
 },
 "nbformat": 4,
 "nbformat_minor": 2
}
